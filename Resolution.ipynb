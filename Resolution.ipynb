{
 "cells": [
  {
   "cell_type": "code",
   "execution_count": 87,
   "metadata": {},
   "outputs": [],
   "source": [
    "import pandas as pd\n",
    "import numpy as np\n",
    "df_train=pd.read_csv('train.csv')\n",
    "df_test=pd.read_csv('test.csv')\n",
    "df_sample=pd.read_csv('sample-submission.csv')\n",
    "total_sales=df_train['total_sales']\n",
    "df_test = df_test.rename(columns={'actual _credit_score': 'actual_credit_score'})\n",
    "df_total = pd.concat([df_train.drop(['total_sales'], axis=1), df_test])\n",
    "df_total=df_total.drop(['city','state','latitude','longitude','credit_score_range'],axis=1)\n",
    "df_total=pd.get_dummies(df_total,columns=['time_zone'],drop_first=True)\n",
    "df_total=pd.get_dummies(df_total,columns=['store_location'],drop_first=True)\n",
    "df_total=pd.get_dummies(df_total,columns=['location_employee_code'],drop_first=True)\n",
    "df_total=pd.get_dummies(df_total,columns=['credit_score'],drop_first=True)\n",
    "df_total_train = df_total.iloc[:344]\n",
    "df_total_test = df_total.iloc[344:]\n",
    "X=df_total_train.values\n",
    "test=df_total_test.values\n",
    "y=total_sales"
   ]
  },
  {
   "cell_type": "code",
   "execution_count": 106,
   "metadata": {},
   "outputs": [],
   "source": [
    "from sklearn.linear_model import Ridge\n",
    "ridge=Ridge(alpha=0.5,normalize=True)\n",
    "ridge.fit(X,y)\n",
    "ridge_pred=ridge.predict(test)\n",
    "ridge_pred=ridge_pred.astype(int)\n",
    "df_test['total_sales_actual']=ridge_pred\n",
    "df_test[['outlet_no', 'total_sales_actual']].to_csv('prediction.csv', index=False)"
   ]
  },
  {
   "cell_type": "code",
   "execution_count": null,
   "metadata": {},
   "outputs": [],
   "source": []
  },
  {
   "cell_type": "code",
   "execution_count": 107,
   "metadata": {},
   "outputs": [
    {
     "data": {
      "text/html": [
       "<div>\n",
       "<style>\n",
       "    .dataframe thead tr:only-child th {\n",
       "        text-align: right;\n",
       "    }\n",
       "\n",
       "    .dataframe thead th {\n",
       "        text-align: left;\n",
       "    }\n",
       "\n",
       "    .dataframe tbody tr th {\n",
       "        vertical-align: top;\n",
       "    }\n",
       "</style>\n",
       "<table border=\"1\" class=\"dataframe\">\n",
       "  <thead>\n",
       "    <tr style=\"text-align: right;\">\n",
       "      <th></th>\n",
       "      <th>outlet_no</th>\n",
       "      <th>total_sales_actual</th>\n",
       "    </tr>\n",
       "  </thead>\n",
       "  <tbody>\n",
       "    <tr>\n",
       "      <th>0</th>\n",
       "      <td>1001</td>\n",
       "      <td>13505</td>\n",
       "    </tr>\n",
       "    <tr>\n",
       "      <th>1</th>\n",
       "      <td>1002</td>\n",
       "      <td>23028</td>\n",
       "    </tr>\n",
       "    <tr>\n",
       "      <th>2</th>\n",
       "      <td>1003</td>\n",
       "      <td>18037</td>\n",
       "    </tr>\n",
       "    <tr>\n",
       "      <th>3</th>\n",
       "      <td>1004</td>\n",
       "      <td>16862</td>\n",
       "    </tr>\n",
       "    <tr>\n",
       "      <th>4</th>\n",
       "      <td>1005</td>\n",
       "      <td>9003</td>\n",
       "    </tr>\n",
       "  </tbody>\n",
       "</table>\n",
       "</div>"
      ],
      "text/plain": [
       "   outlet_no  total_sales_actual\n",
       "0       1001               13505\n",
       "1       1002               23028\n",
       "2       1003               18037\n",
       "3       1004               16862\n",
       "4       1005                9003"
      ]
     },
     "execution_count": 107,
     "metadata": {},
     "output_type": "execute_result"
    }
   ],
   "source": [
    "df2=pd.read_csv('prediction.csv')\n",
    "df2.head()"
   ]
  },
  {
   "cell_type": "code",
   "execution_count": null,
   "metadata": {
    "collapsed": true
   },
   "outputs": [],
   "source": []
  }
 ],
 "metadata": {
  "kernelspec": {
   "display_name": "Python 3",
   "language": "python",
   "name": "python3"
  },
  "language_info": {
   "codemirror_mode": {
    "name": "ipython",
    "version": 3
   },
   "file_extension": ".py",
   "mimetype": "text/x-python",
   "name": "python",
   "nbconvert_exporter": "python",
   "pygments_lexer": "ipython3",
   "version": "3.6.2"
  }
 },
 "nbformat": 4,
 "nbformat_minor": 2
}
